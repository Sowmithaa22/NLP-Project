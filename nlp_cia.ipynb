{
  "metadata": {
    "kernelspec": {
      "language": "python",
      "display_name": "Python 3",
      "name": "python3"
    },
    "language_info": {
      "name": "python",
      "version": "3.10.12",
      "mimetype": "text/x-python",
      "codemirror_mode": {
        "name": "ipython",
        "version": 3
      },
      "pygments_lexer": "ipython3",
      "nbconvert_exporter": "python",
      "file_extension": ".py"
    },
    "kaggle": {
      "accelerator": "none",
      "dataSources": [],
      "dockerImageVersionId": 30886,
      "isInternetEnabled": true,
      "language": "python",
      "sourceType": "notebook",
      "isGpuEnabled": false
    },
    "colab": {
      "provenance": [],
      "include_colab_link": true
    }
  },
  "nbformat_minor": 0,
  "nbformat": 4,
  "cells": [
    {
      "cell_type": "markdown",
      "metadata": {
        "id": "view-in-github",
        "colab_type": "text"
      },
      "source": [
        "<a href=\"https://colab.research.google.com/github/Sowmithaa22/NLP-Project/blob/main/nlp_cia.ipynb\" target=\"_parent\"><img src=\"https://colab.research.google.com/assets/colab-badge.svg\" alt=\"Open In Colab\"/></a>"
      ]
    },
    {
      "cell_type": "markdown",
      "source": [
        "Raw OG Code\n"
      ],
      "metadata": {
        "id": "SSEaaZUxawhL"
      }
    },
    {
      "cell_type": "code",
      "source": [
        "import numpy as np\n",
        "from sklearn.cluster import KMeans\n",
        "from sklearn.feature_extraction.text import TfidfVectorizer\n",
        "from sklearn.metrics.pairwise import cosine_similarity\n",
        "from heapq import nlargest\n",
        "import nltk\n",
        "\n",
        "nltk.download('punkt')  # Ensure the punkt tokenizer is downloaded\n",
        "\n",
        "class BeamSearchSummarizer:\n",
        "    def __init__(self, text, beam_width=3, summary_length=5):\n",
        "        self.sentences = nltk.sent_tokenize(text)  # Tokenize the paragraph into sentences\n",
        "        self.beam_width = beam_width\n",
        "        self.summary_length = summary_length\n",
        "\n",
        "    def cluster_sentences(self, num_clusters):\n",
        "        \"\"\"Cluster sentences and return the most important sentence from each cluster\"\"\"\n",
        "        vectorizer = TfidfVectorizer()\n",
        "        X = vectorizer.fit_transform(self.sentences)\n",
        "        kmeans = KMeans(n_clusters=num_clusters, random_state=42, n_init=10).fit(X)\n",
        "        labels = kmeans.labels_\n",
        "        centroids = kmeans.cluster_centers_\n",
        "        key_sentences = []\n",
        "\n",
        "        for cluster in range(num_clusters):\n",
        "            indices = np.where(labels == cluster)[0]\n",
        "            cluster_sentences = [self.sentences[i] for i in indices]\n",
        "            cluster_vectors = X[indices].toarray()\n",
        "            centroid_vector = centroids[cluster].reshape(1, -1)\n",
        "            similarities = cosine_similarity(cluster_vectors, centroid_vector).flatten()\n",
        "            top_sentence_index = indices[np.argmax(similarities)]\n",
        "            key_sentences.append(self.sentences[top_sentence_index])\n",
        "\n",
        "        return key_sentences\n",
        "\n",
        "    def beam_search_summary(self):\n",
        "        \"\"\"Generate a summary using Beam Search\"\"\"\n",
        "        num_clusters = min(len(self.sentences), self.summary_length)\n",
        "        key_sentences = self.cluster_sentences(num_clusters)\n",
        "        beams = [([], 0)]  # Initialize with empty list and score\n",
        "\n",
        "        for sentence in key_sentences:\n",
        "            new_beams = []\n",
        "            for beam_list, beam_score in beams:\n",
        "                new_list = beam_list + [sentence]\n",
        "                score = self.evaluate_summary(new_list)\n",
        "                new_beams.append((new_list, score))\n",
        "\n",
        "            # Keep only the top 'beam_width' candidates\n",
        "            beams = nlargest(self.beam_width, new_beams, key=lambda x: x[1])\n",
        "\n",
        "        # Select the best-scoring sequence as final summary\n",
        "        best_summary = beams[0][0] if beams else []  # Extract best sequence of sentences\n",
        "        return \" \".join(best_summary)\n",
        "\n",
        "    def evaluate_summary(self, summary):\n",
        "        \"\"\"Evaluation function to rank summaries\"\"\"\n",
        "        if not summary:  # Handle empty summary case\n",
        "            return 0\n",
        "\n",
        "        length_penalty = abs(len(summary) - self.summary_length)\n",
        "        # Count repeated sentences in the list\n",
        "        redundancy_penalty = sum(summary.count(s) - 1 for s in set(summary))\n",
        "        unique_sentences = len(set(summary))\n",
        "        return unique_sentences - length_penalty - redundancy_penalty\n",
        "\n",
        "# Example Usage:\n",
        "if __name__ == \"__main__\":\n",
        "    text = \"\"\"\n",
        "    Artificial Intelligence (AI) has revolutionized various aspects of human life, from automation to decision-making. It is a rapidly evolving field that integrates machine learning, deep learning, and natural language processing to mimic human intelligence. AI has had a significant impact on four key areas: healthcare, business, education, and ethics. In healthcare, AI-powered diagnostic tools have improved the accuracy and speed of disease detection. Machine learning models analyze medical images, detect patterns, and assist doctors in making precise diagnoses. Additionally, AI-driven robotic surgeries and personalized treatment plans are enhancing patient care and medical outcomes. In the business sector, AI has streamlined operations through automation and predictive analytics. Companies use AI-powered chatbots for customer service, fraud detection in banking, and demand forecasting for supply chain management. AI-driven insights help businesses make data-driven decisions, increasing efficiency and profitability. Education has also been transformed by AI, making learning more accessible and personalized. AI-based tutoring systems adapt to individual learning paces, while automated grading reduces the burden on teachers. Virtual reality (VR) and AI-powered simulations provide immersive learning experiences, bridging the gap between theory and practice. Despite its benefits, AI raises ethical concerns regarding privacy, bias, and job displacement. Algorithms can unintentionally reinforce biases present in data, leading to unfair decisions. The automation of jobs also threatens employment in certain industries, necessitating policies for workforce reskilling. Ethical AI development requires transparency, accountability, and human oversight to ensure fairness and safety. AI continues to shape the future, influencing multiple domains. While it brings immense benefits, responsible development and regulation are necessary to harness its potential while mitigating risks.\n",
        "    \"\"\"\n",
        "\n",
        "    summarizer = BeamSearchSummarizer(text, beam_width=3, summary_length=5)\n",
        "    summary = summarizer.beam_search_summary()\n",
        "    print(\"Generated Summary:\\n\", summary)\n"
      ],
      "metadata": {
        "_uuid": "8f2839f25d086af736a60e9eeb907d3b93b6e0e5",
        "_cell_guid": "b1076dfc-b9ad-4769-8c92-a6c4dae69d19",
        "trusted": true,
        "execution": {
          "iopub.status.busy": "2025-02-18T05:41:02.274497Z",
          "iopub.execute_input": "2025-02-18T05:41:02.274805Z",
          "iopub.status.idle": "2025-02-18T05:41:02.323210Z",
          "shell.execute_reply.started": "2025-02-18T05:41:02.274781Z",
          "shell.execute_reply": "2025-02-18T05:41:02.322480Z"
        },
        "id": "Hlxp-1mEMm3F",
        "outputId": "46a72fa4-7936-4480-a894-d2a9190534dc"
      },
      "outputs": [
        {
          "name": "stdout",
          "text": "[nltk_data] Downloading package punkt to /usr/share/nltk_data...\n[nltk_data]   Package punkt is already up-to-date!\nGenerated Summary:\n In healthcare, AI-powered diagnostic tools have improved the accuracy and speed of disease detection. Education has also been transformed by AI, making learning more accessible and personalized. AI-driven insights help businesses make data-driven decisions, increasing efficiency and profitability. It is a rapidly evolving field that integrates machine learning, deep learning, and natural language processing to mimic human intelligence. Despite its benefits, AI raises ethical concerns regarding privacy, bias, and job displacement.\n",
          "output_type": "stream"
        }
      ],
      "execution_count": null
    },
    {
      "cell_type": "markdown",
      "source": [
        "Step wise Output Code"
      ],
      "metadata": {
        "id": "j6W3fTZ2a5QU"
      }
    },
    {
      "cell_type": "code",
      "source": [
        "import numpy as np\n",
        "from sklearn.cluster import KMeans\n",
        "from sklearn.feature_extraction.text import TfidfVectorizer\n",
        "from sklearn.metrics.pairwise import cosine_similarity\n",
        "from heapq import nlargest\n",
        "import nltk\n",
        "\n",
        "nltk.download('punkt')  # Ensure the punkt tokenizer is downloaded\n",
        "nltk.download('punkt_tab')\n"
      ],
      "metadata": {
        "trusted": true,
        "colab": {
          "base_uri": "https://localhost:8080/"
        },
        "id": "6YnorpLmMm3U",
        "outputId": "970d0576-f565-4f5b-b6cd-da4d0194728d"
      },
      "outputs": [
        {
          "output_type": "stream",
          "name": "stderr",
          "text": [
            "[nltk_data] Downloading package punkt to /root/nltk_data...\n",
            "[nltk_data]   Unzipping tokenizers/punkt.zip.\n"
          ]
        },
        {
          "output_type": "execute_result",
          "data": {
            "text/plain": [
              "True"
            ]
          },
          "metadata": {},
          "execution_count": 1
        }
      ],
      "execution_count": 1
    },
    {
      "cell_type": "code",
      "source": [
        "\n",
        "class BeamSearchSummarizer:\n",
        "    def __init__(self, text, beam_width=3, summary_length=5):\n",
        "        self.sentences = nltk.sent_tokenize(text)  # Tokenize the paragraph into sentences\n",
        "        self.beam_width = beam_width\n",
        "        self.summary_length = summary_length\n",
        "        print(\"\\n=== Step 1: Sentence Tokenization ===\")\n",
        "        for i, sentence in enumerate(self.sentences):\n",
        "            print(f\"Sentence {i+1}: {sentence}\")\n",
        "\n",
        "    def cluster_sentences(self, num_clusters):\n",
        "        \"\"\"Cluster sentences and return the most important sentence from each cluster\"\"\"\n",
        "        print(\"\\n=== Step 2: TF-IDF Vectorization ===\")\n",
        "        vectorizer = TfidfVectorizer()\n",
        "        X = vectorizer.fit_transform(self.sentences)\n",
        "        print(f\"TF-IDF Matrix Shape: {X.shape}\")\n",
        "\n",
        "        print(\"\\n=== Step 3: K-Means Clustering ===\")\n",
        "        kmeans = KMeans(n_clusters=num_clusters, random_state=42, n_init=10).fit(X)\n",
        "        labels = kmeans.labels_\n",
        "        centroids = kmeans.cluster_centers_\n",
        "        print(f\"Cluster Assignments: {labels}\")\n",
        "\n",
        "        key_sentences = []\n",
        "        print(\"\\n=== Step 4: Identifying Key Sentences from Clusters ===\")\n",
        "        for cluster in range(num_clusters):\n",
        "            indices = np.where(labels == cluster)[0]\n",
        "            cluster_sentences = [self.sentences[i] for i in indices]\n",
        "            cluster_vectors = X[indices].toarray()\n",
        "            centroid_vector = centroids[cluster].reshape(1, -1)\n",
        "            similarities = cosine_similarity(cluster_vectors, centroid_vector).flatten()\n",
        "            top_sentence_index = indices[np.argmax(similarities)]\n",
        "            key_sentence = self.sentences[top_sentence_index]\n",
        "            key_sentences.append(key_sentence)\n",
        "            print(f\"Cluster {cluster+1}: Selected Sentence -> {key_sentence}\")\n",
        "\n",
        "        return key_sentences\n",
        "\n",
        "    def beam_search_summary(self):\n",
        "        \"\"\"Generate a summary using Beam Search\"\"\"\n",
        "        num_clusters = min(len(self.sentences), self.summary_length)\n",
        "        key_sentences = self.cluster_sentences(num_clusters)\n",
        "\n",
        "        print(\"\\n=== Step 5: Beam Search Process ===\")\n",
        "        beams = [([], 0)]  # Initialize with empty list and score\n",
        "\n",
        "        for sentence in key_sentences:\n",
        "            print(f\"\\nAdding sentence: {sentence}\")\n",
        "            new_beams = []\n",
        "            for beam_list, beam_score in beams:\n",
        "                new_list = beam_list + [sentence]\n",
        "                score = self.evaluate_summary(new_list)\n",
        "                new_beams.append((new_list, score))\n",
        "                print(f\"Candidate Summary: {' '.join(new_list)} | Score: {score}\")\n",
        "\n",
        "            # Keep only the top 'beam_width' candidates\n",
        "            beams = nlargest(self.beam_width, new_beams, key=lambda x: x[1])\n",
        "            print(f\"Top {self.beam_width} Candidates After This Step:\")\n",
        "            for b in beams:\n",
        "                print(f\"  {' '.join(b[0])} | Score: {b[1]}\")\n",
        "\n",
        "        # Select the best-scoring sequence as final summary\n",
        "        best_summary = beams[0][0] if beams else []  # Extract best sequence of sentences\n",
        "        print(\"\\n=== Step 6: Final Selected Summary ===\")\n",
        "        print(\" \".join(best_summary))\n",
        "        return \" \".join(best_summary)\n",
        "\n",
        "    def evaluate_summary(self, summary):\n",
        "        \"\"\"Evaluation function to rank summaries\"\"\"\n",
        "        if not summary:  # Handle empty summary case\n",
        "            return 0\n",
        "\n",
        "        length_penalty = abs(len(summary) - self.summary_length)\n",
        "        redundancy_penalty = sum(summary.count(s) - 1 for s in set(summary))\n",
        "        unique_sentences = len(set(summary))\n",
        "        return unique_sentences - length_penalty - redundancy_penalty\n",
        "\n"
      ],
      "metadata": {
        "id": "MU1L3Z1KROck"
      },
      "execution_count": 2,
      "outputs": []
    },
    {
      "cell_type": "code",
      "source": [
        "# Example Usage:\n",
        "if __name__ == \"__main__\":\n",
        "    text = \"\"\"\n",
        "    Artificial Intelligence (AI) has revolutionized various aspects of human life, from automation to decision-making. It is a rapidly evolving field that integrates machine learning, deep learning, and natural language processing to mimic human intelligence. AI has had a significant impact on four key areas: healthcare, business, education, and ethics. In healthcare, AI-powered diagnostic tools have improved the accuracy and speed of disease detection. Machine learning models analyze medical images, detect patterns, and assist doctors in making precise diagnoses. Additionally, AI-driven robotic surgeries and personalized treatment plans are enhancing patient care and medical outcomes. In the business sector, AI has streamlined operations through automation and predictive analytics. Companies use AI-powered chatbots for customer service, fraud detection in banking, and demand forecasting for supply chain management. AI-driven insights help businesses make data-driven decisions, increasing efficiency and profitability. Education has also been transformed by AI, making learning more accessible and personalized. AI-based tutoring systems adapt to individual learning paces, while automated grading reduces the burden on teachers. Virtual reality (VR) and AI-powered simulations provide immersive learning experiences, bridging the gap between theory and practice. Despite its benefits, AI raises ethical concerns regarding privacy, bias, and job displacement. Algorithms can unintentionally reinforce biases present in data, leading to unfair decisions. The automation of jobs also threatens employment in certain industries, necessitating policies for workforce reskilling. Ethical AI development requires transparency, accountability, and human oversight to ensure fairness and safety. AI continues to shape the future, influencing multiple domains. While it brings immense benefits, responsible development and regulation are necessary to harness its potential while mitigating risks.\n",
        "    \"\"\"\n",
        "\n",
        "    summarizer = BeamSearchSummarizer(text, beam_width=3, summary_length=5)\n",
        "    summary = summarizer.beam_search_summary()\n",
        "    print(\"\\n=== Final Generated Summary ===\\n\", summary)\n"
      ],
      "metadata": {
        "colab": {
          "base_uri": "https://localhost:8080/"
        },
        "id": "xzBVyt4VRs7V",
        "outputId": "7af53a9e-abd3-4958-e1e8-bf3b85996d86"
      },
      "execution_count": 5,
      "outputs": [
        {
          "output_type": "stream",
          "name": "stdout",
          "text": [
            "\n",
            "=== Step 1: Sentence Tokenization ===\n",
            "Sentence 1: \n",
            "    Artificial Intelligence (AI) has revolutionized various aspects of human life, from automation to decision-making.\n",
            "Sentence 2: It is a rapidly evolving field that integrates machine learning, deep learning, and natural language processing to mimic human intelligence.\n",
            "Sentence 3: AI has had a significant impact on four key areas: healthcare, business, education, and ethics.\n",
            "Sentence 4: In healthcare, AI-powered diagnostic tools have improved the accuracy and speed of disease detection.\n",
            "Sentence 5: Machine learning models analyze medical images, detect patterns, and assist doctors in making precise diagnoses.\n",
            "Sentence 6: Additionally, AI-driven robotic surgeries and personalized treatment plans are enhancing patient care and medical outcomes.\n",
            "Sentence 7: In the business sector, AI has streamlined operations through automation and predictive analytics.\n",
            "Sentence 8: Companies use AI-powered chatbots for customer service, fraud detection in banking, and demand forecasting for supply chain management.\n",
            "Sentence 9: AI-driven insights help businesses make data-driven decisions, increasing efficiency and profitability.\n",
            "Sentence 10: Education has also been transformed by AI, making learning more accessible and personalized.\n",
            "Sentence 11: AI-based tutoring systems adapt to individual learning paces, while automated grading reduces the burden on teachers.\n",
            "Sentence 12: Virtual reality (VR) and AI-powered simulations provide immersive learning experiences, bridging the gap between theory and practice.\n",
            "Sentence 13: Despite its benefits, AI raises ethical concerns regarding privacy, bias, and job displacement.\n",
            "Sentence 14: Algorithms can unintentionally reinforce biases present in data, leading to unfair decisions.\n",
            "Sentence 15: The automation of jobs also threatens employment in certain industries, necessitating policies for workforce reskilling.\n",
            "Sentence 16: Ethical AI development requires transparency, accountability, and human oversight to ensure fairness and safety.\n",
            "Sentence 17: AI continues to shape the future, influencing multiple domains.\n",
            "Sentence 18: While it brings immense benefits, responsible development and regulation are necessary to harness its potential while mitigating risks.\n",
            "\n",
            "=== Step 2: TF-IDF Vectorization ===\n",
            "TF-IDF Matrix Shape: (18, 183)\n",
            "\n",
            "=== Step 3: K-Means Clustering ===\n",
            "Cluster Assignments: [0 1 0 0 1 4 0 0 4 1 2 0 3 4 0 3 2 3]\n",
            "\n",
            "=== Step 4: Identifying Key Sentences from Clusters ===\n",
            "Cluster 1: Selected Sentence -> In healthcare, AI-powered diagnostic tools have improved the accuracy and speed of disease detection.\n",
            "Cluster 2: Selected Sentence -> Machine learning models analyze medical images, detect patterns, and assist doctors in making precise diagnoses.\n",
            "Cluster 3: Selected Sentence -> AI-based tutoring systems adapt to individual learning paces, while automated grading reduces the burden on teachers.\n",
            "Cluster 4: Selected Sentence -> Despite its benefits, AI raises ethical concerns regarding privacy, bias, and job displacement.\n",
            "Cluster 5: Selected Sentence -> AI-driven insights help businesses make data-driven decisions, increasing efficiency and profitability.\n",
            "\n",
            "=== Step 5: Beam Search Process ===\n",
            "\n",
            "Adding sentence: In healthcare, AI-powered diagnostic tools have improved the accuracy and speed of disease detection.\n",
            "Candidate Summary: In healthcare, AI-powered diagnostic tools have improved the accuracy and speed of disease detection. | Score: -3\n",
            "Top 3 Candidates After This Step:\n",
            "  In healthcare, AI-powered diagnostic tools have improved the accuracy and speed of disease detection. | Score: -3\n",
            "\n",
            "Adding sentence: Machine learning models analyze medical images, detect patterns, and assist doctors in making precise diagnoses.\n",
            "Candidate Summary: In healthcare, AI-powered diagnostic tools have improved the accuracy and speed of disease detection. Machine learning models analyze medical images, detect patterns, and assist doctors in making precise diagnoses. | Score: -1\n",
            "Top 3 Candidates After This Step:\n",
            "  In healthcare, AI-powered diagnostic tools have improved the accuracy and speed of disease detection. Machine learning models analyze medical images, detect patterns, and assist doctors in making precise diagnoses. | Score: -1\n",
            "\n",
            "Adding sentence: AI-based tutoring systems adapt to individual learning paces, while automated grading reduces the burden on teachers.\n",
            "Candidate Summary: In healthcare, AI-powered diagnostic tools have improved the accuracy and speed of disease detection. Machine learning models analyze medical images, detect patterns, and assist doctors in making precise diagnoses. AI-based tutoring systems adapt to individual learning paces, while automated grading reduces the burden on teachers. | Score: 1\n",
            "Top 3 Candidates After This Step:\n",
            "  In healthcare, AI-powered diagnostic tools have improved the accuracy and speed of disease detection. Machine learning models analyze medical images, detect patterns, and assist doctors in making precise diagnoses. AI-based tutoring systems adapt to individual learning paces, while automated grading reduces the burden on teachers. | Score: 1\n",
            "\n",
            "Adding sentence: Despite its benefits, AI raises ethical concerns regarding privacy, bias, and job displacement.\n",
            "Candidate Summary: In healthcare, AI-powered diagnostic tools have improved the accuracy and speed of disease detection. Machine learning models analyze medical images, detect patterns, and assist doctors in making precise diagnoses. AI-based tutoring systems adapt to individual learning paces, while automated grading reduces the burden on teachers. Despite its benefits, AI raises ethical concerns regarding privacy, bias, and job displacement. | Score: 3\n",
            "Top 3 Candidates After This Step:\n",
            "  In healthcare, AI-powered diagnostic tools have improved the accuracy and speed of disease detection. Machine learning models analyze medical images, detect patterns, and assist doctors in making precise diagnoses. AI-based tutoring systems adapt to individual learning paces, while automated grading reduces the burden on teachers. Despite its benefits, AI raises ethical concerns regarding privacy, bias, and job displacement. | Score: 3\n",
            "\n",
            "Adding sentence: AI-driven insights help businesses make data-driven decisions, increasing efficiency and profitability.\n",
            "Candidate Summary: In healthcare, AI-powered diagnostic tools have improved the accuracy and speed of disease detection. Machine learning models analyze medical images, detect patterns, and assist doctors in making precise diagnoses. AI-based tutoring systems adapt to individual learning paces, while automated grading reduces the burden on teachers. Despite its benefits, AI raises ethical concerns regarding privacy, bias, and job displacement. AI-driven insights help businesses make data-driven decisions, increasing efficiency and profitability. | Score: 5\n",
            "Top 3 Candidates After This Step:\n",
            "  In healthcare, AI-powered diagnostic tools have improved the accuracy and speed of disease detection. Machine learning models analyze medical images, detect patterns, and assist doctors in making precise diagnoses. AI-based tutoring systems adapt to individual learning paces, while automated grading reduces the burden on teachers. Despite its benefits, AI raises ethical concerns regarding privacy, bias, and job displacement. AI-driven insights help businesses make data-driven decisions, increasing efficiency and profitability. | Score: 5\n",
            "\n",
            "=== Step 6: Final Selected Summary ===\n",
            "In healthcare, AI-powered diagnostic tools have improved the accuracy and speed of disease detection. Machine learning models analyze medical images, detect patterns, and assist doctors in making precise diagnoses. AI-based tutoring systems adapt to individual learning paces, while automated grading reduces the burden on teachers. Despite its benefits, AI raises ethical concerns regarding privacy, bias, and job displacement. AI-driven insights help businesses make data-driven decisions, increasing efficiency and profitability.\n",
            "\n",
            "=== Final Generated Summary ===\n",
            " In healthcare, AI-powered diagnostic tools have improved the accuracy and speed of disease detection. Machine learning models analyze medical images, detect patterns, and assist doctors in making precise diagnoses. AI-based tutoring systems adapt to individual learning paces, while automated grading reduces the burden on teachers. Despite its benefits, AI raises ethical concerns regarding privacy, bias, and job displacement. AI-driven insights help businesses make data-driven decisions, increasing efficiency and profitability.\n"
          ]
        }
      ]
    },
    {
      "cell_type": "code",
      "source": [],
      "metadata": {
        "id": "IScvOnDnSg8j"
      },
      "execution_count": null,
      "outputs": []
    }
  ]
}